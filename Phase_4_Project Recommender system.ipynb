{
 "cells": [
  {
   "cell_type": "markdown",
   "metadata": {},
   "source": [
    "# BUILDING A COLLABORATIVE RECOMMENDATION SYSTEM FOR MOVIELENS"
   ]
  },
  {
   "cell_type": "markdown",
   "metadata": {},
   "source": [
    "# BUSINESS OVERVIEW: \n",
    "\n",
    "XMovies is a digital cinema company providing movies and tv shows on demand through their subscription platform. The company is seeking to develop a recommendation system based on user ratings that can enhance user satisfaction, engagement, and revenue generation for the platform. The system should leverage data science techniques to analyze user preferences and generate accurate and personalized recommendations, thereby increasing user retention, driving user interaction, and boosting overall platform usage.This will also grants a competitive advantage to other platforms offering the same services."
   ]
  },
  {
   "cell_type": "markdown",
   "metadata": {},
   "source": [
    "# PROBLEM STATEMENT\n",
    "\n",
    "We are working for a leading video streaming platform that offers a vast collection of movies to its users. The company’s customers are struggling to discover new movies that align with their interests. This leads to decreased user satisfaction, lower engagement, and ultimately affects revenue generation for the platform. The current recommendation system fails to accurately analyze user preferences and provide personalized movie suggestions, resulting in an unsatisfactory user experience."
   ]
  },
  {
   "cell_type": "markdown",
   "metadata": {},
   "source": [
    "# PROJECT OBJECTIVE\n",
    "\n",
    "* **Main Objective:**\n",
    "\n",
    "The primary goal of the project is to build a movie recommendation system that provides top 5 movie recommendations to a user based on their ratings of other movies. \n",
    "\n",
    "* **Specific Objectives**\n",
    "\n",
    "1. To enhance user satisfaction by providing accurate and personalized movie recommendations that align with each user's individual tastes and interests.\n",
    "2. Improve user retention by delivering a highly engaging and satisfying user experience through personalized recommendations."
   ]
  },
  {
   "cell_type": "markdown",
   "metadata": {},
   "source": [
    "# 1. DATA EXPLORATION\n",
    "\n",
    " **DATA UNDERSTANDING** \n",
    "\n",
    "For this project we will use the MovieLens dataset (ml-latest-small)as provided by the GroupLens research lab at the University of Minnesota. The dataset describes 5-star rating and free-text tagging activity from [MovieLens](http://movielens.org), a movie recommendation service. It contains 100836 ratings and 3683 tag applications across 9742 movies. These data were created by 610 users between March 29, 1996 and September 24, 2018. This dataset was generated on September 26, 2018.\n",
    "\n",
    "The dataset is divided into 4:\n",
    "\n",
    "1. Movie dataset\n",
    "2. Ratings dataset\n",
    "3. Tags dataset\n",
    "4. Links dataset"
   ]
  },
  {
   "cell_type": "markdown",
   "metadata": {},
   "source": [
    "* Importing Libraries"
   ]
  },
  {
   "cell_type": "code",
   "execution_count": 1,
   "metadata": {},
   "outputs": [],
   "source": [
    "# Import standard packages\n",
    "import pandas as pd\n",
    "import numpy as np\n",
    "import matplotlib.pyplot as plt\n",
    "import seaborn as sns\n",
    "from scipy import stats\n",
    "%matplotlib inline\n",
    "import seaborn as sns\n",
    "\n",
    "import warnings\n",
    "warnings.simplefilter(action='ignore', category=FutureWarning) # setting ignore as a parameter and further adding category"
   ]
  },
  {
   "cell_type": "markdown",
   "metadata": {},
   "source": [
    "# 1.2 LOAD AND EXPLORE DATA"
   ]
  },
  {
   "cell_type": "markdown",
   "metadata": {},
   "source": [
    "Load and explore the movie dataset "
   ]
  },
  {
   "cell_type": "code",
   "execution_count": 2,
   "metadata": {},
   "outputs": [
    {
     "data": {
      "text/html": [
       "<div>\n",
       "<style scoped>\n",
       "    .dataframe tbody tr th:only-of-type {\n",
       "        vertical-align: middle;\n",
       "    }\n",
       "\n",
       "    .dataframe tbody tr th {\n",
       "        vertical-align: top;\n",
       "    }\n",
       "\n",
       "    .dataframe thead th {\n",
       "        text-align: right;\n",
       "    }\n",
       "</style>\n",
       "<table border=\"1\" class=\"dataframe\">\n",
       "  <thead>\n",
       "    <tr style=\"text-align: right;\">\n",
       "      <th></th>\n",
       "      <th>movieId</th>\n",
       "      <th>title</th>\n",
       "      <th>genres</th>\n",
       "    </tr>\n",
       "  </thead>\n",
       "  <tbody>\n",
       "    <tr>\n",
       "      <th>0</th>\n",
       "      <td>1</td>\n",
       "      <td>Toy Story (1995)</td>\n",
       "      <td>Adventure|Animation|Children|Comedy|Fantasy</td>\n",
       "    </tr>\n",
       "    <tr>\n",
       "      <th>1</th>\n",
       "      <td>2</td>\n",
       "      <td>Jumanji (1995)</td>\n",
       "      <td>Adventure|Children|Fantasy</td>\n",
       "    </tr>\n",
       "    <tr>\n",
       "      <th>2</th>\n",
       "      <td>3</td>\n",
       "      <td>Grumpier Old Men (1995)</td>\n",
       "      <td>Comedy|Romance</td>\n",
       "    </tr>\n",
       "    <tr>\n",
       "      <th>3</th>\n",
       "      <td>4</td>\n",
       "      <td>Waiting to Exhale (1995)</td>\n",
       "      <td>Comedy|Drama|Romance</td>\n",
       "    </tr>\n",
       "    <tr>\n",
       "      <th>4</th>\n",
       "      <td>5</td>\n",
       "      <td>Father of the Bride Part II (1995)</td>\n",
       "      <td>Comedy</td>\n",
       "    </tr>\n",
       "  </tbody>\n",
       "</table>\n",
       "</div>"
      ],
      "text/plain": [
       "   movieId                               title  \\\n",
       "0        1                    Toy Story (1995)   \n",
       "1        2                      Jumanji (1995)   \n",
       "2        3             Grumpier Old Men (1995)   \n",
       "3        4            Waiting to Exhale (1995)   \n",
       "4        5  Father of the Bride Part II (1995)   \n",
       "\n",
       "                                        genres  \n",
       "0  Adventure|Animation|Children|Comedy|Fantasy  \n",
       "1                   Adventure|Children|Fantasy  \n",
       "2                               Comedy|Romance  \n",
       "3                         Comedy|Drama|Romance  \n",
       "4                                       Comedy  "
      ]
     },
     "execution_count": 2,
     "metadata": {},
     "output_type": "execute_result"
    }
   ],
   "source": [
    "df_movies = pd.read_csv(\"Dataset/movies.csv\")\n",
    "df_movies.head()"
   ]
  },
  {
   "cell_type": "code",
   "execution_count": 3,
   "metadata": {},
   "outputs": [
    {
     "name": "stdout",
     "output_type": "stream",
     "text": [
      "<class 'pandas.core.frame.DataFrame'>\n",
      "RangeIndex: 9742 entries, 0 to 9741\n",
      "Data columns (total 3 columns):\n",
      " #   Column   Non-Null Count  Dtype \n",
      "---  ------   --------------  ----- \n",
      " 0   movieId  9742 non-null   int64 \n",
      " 1   title    9742 non-null   object\n",
      " 2   genres   9742 non-null   object\n",
      "dtypes: int64(1), object(2)\n",
      "memory usage: 228.5+ KB\n"
     ]
    }
   ],
   "source": [
    "df_movies.info()"
   ]
  },
  {
   "cell_type": "code",
   "execution_count": 4,
   "metadata": {},
   "outputs": [
    {
     "data": {
      "text/plain": [
       "(9742, 3)"
      ]
     },
     "execution_count": 4,
     "metadata": {},
     "output_type": "execute_result"
    }
   ],
   "source": [
    "#check dataset shape\n",
    "df_movies.shape"
   ]
  },
  {
   "cell_type": "code",
   "execution_count": 5,
   "metadata": {},
   "outputs": [
    {
     "name": "stdout",
     "output_type": "stream",
     "text": [
      "For movieId,9742 unique values present\n",
      "For title,9737 unique values present\n",
      "For genres,951 unique values present\n"
     ]
    }
   ],
   "source": [
    "#check for uniqueness\n",
    "for data_mov in df_movies:\n",
    "    print('For {},{} unique values present'.format(data_mov,df_movies[data_mov].nunique()))"
   ]
  },
  {
   "cell_type": "markdown",
   "metadata": {},
   "source": [
    "Load and explore the ratings dataset "
   ]
  },
  {
   "cell_type": "code",
   "execution_count": 6,
   "metadata": {},
   "outputs": [
    {
     "data": {
      "text/html": [
       "<div>\n",
       "<style scoped>\n",
       "    .dataframe tbody tr th:only-of-type {\n",
       "        vertical-align: middle;\n",
       "    }\n",
       "\n",
       "    .dataframe tbody tr th {\n",
       "        vertical-align: top;\n",
       "    }\n",
       "\n",
       "    .dataframe thead th {\n",
       "        text-align: right;\n",
       "    }\n",
       "</style>\n",
       "<table border=\"1\" class=\"dataframe\">\n",
       "  <thead>\n",
       "    <tr style=\"text-align: right;\">\n",
       "      <th></th>\n",
       "      <th>userId</th>\n",
       "      <th>movieId</th>\n",
       "      <th>rating</th>\n",
       "      <th>timestamp</th>\n",
       "    </tr>\n",
       "  </thead>\n",
       "  <tbody>\n",
       "    <tr>\n",
       "      <th>0</th>\n",
       "      <td>1</td>\n",
       "      <td>1</td>\n",
       "      <td>4.0</td>\n",
       "      <td>964982703</td>\n",
       "    </tr>\n",
       "    <tr>\n",
       "      <th>1</th>\n",
       "      <td>1</td>\n",
       "      <td>3</td>\n",
       "      <td>4.0</td>\n",
       "      <td>964981247</td>\n",
       "    </tr>\n",
       "    <tr>\n",
       "      <th>2</th>\n",
       "      <td>1</td>\n",
       "      <td>6</td>\n",
       "      <td>4.0</td>\n",
       "      <td>964982224</td>\n",
       "    </tr>\n",
       "    <tr>\n",
       "      <th>3</th>\n",
       "      <td>1</td>\n",
       "      <td>47</td>\n",
       "      <td>5.0</td>\n",
       "      <td>964983815</td>\n",
       "    </tr>\n",
       "    <tr>\n",
       "      <th>4</th>\n",
       "      <td>1</td>\n",
       "      <td>50</td>\n",
       "      <td>5.0</td>\n",
       "      <td>964982931</td>\n",
       "    </tr>\n",
       "  </tbody>\n",
       "</table>\n",
       "</div>"
      ],
      "text/plain": [
       "   userId  movieId  rating  timestamp\n",
       "0       1        1     4.0  964982703\n",
       "1       1        3     4.0  964981247\n",
       "2       1        6     4.0  964982224\n",
       "3       1       47     5.0  964983815\n",
       "4       1       50     5.0  964982931"
      ]
     },
     "execution_count": 6,
     "metadata": {},
     "output_type": "execute_result"
    }
   ],
   "source": [
    "df_ratings = pd.read_csv(\"Dataset/ratings.csv\")\n",
    "df_ratings.head()"
   ]
  },
  {
   "cell_type": "code",
   "execution_count": 7,
   "metadata": {},
   "outputs": [
    {
     "name": "stdout",
     "output_type": "stream",
     "text": [
      "<class 'pandas.core.frame.DataFrame'>\n",
      "RangeIndex: 100836 entries, 0 to 100835\n",
      "Data columns (total 4 columns):\n",
      " #   Column     Non-Null Count   Dtype  \n",
      "---  ------     --------------   -----  \n",
      " 0   userId     100836 non-null  int64  \n",
      " 1   movieId    100836 non-null  int64  \n",
      " 2   rating     100836 non-null  float64\n",
      " 3   timestamp  100836 non-null  int64  \n",
      "dtypes: float64(1), int64(3)\n",
      "memory usage: 3.1 MB\n"
     ]
    }
   ],
   "source": [
    "df_ratings.info()"
   ]
  },
  {
   "cell_type": "code",
   "execution_count": 8,
   "metadata": {},
   "outputs": [
    {
     "data": {
      "text/plain": [
       "(100836, 4)"
      ]
     },
     "execution_count": 8,
     "metadata": {},
     "output_type": "execute_result"
    }
   ],
   "source": [
    "#check dataset shape\n",
    "df_ratings.shape"
   ]
  },
  {
   "cell_type": "code",
   "execution_count": 9,
   "metadata": {},
   "outputs": [
    {
     "name": "stdout",
     "output_type": "stream",
     "text": [
      "For userId,610 unique values present\n",
      "For movieId,9724 unique values present\n",
      "For rating,10 unique values present\n",
      "For timestamp,85043 unique values present\n"
     ]
    }
   ],
   "source": [
    "#check dataset uniqueness\n",
    "for data_rat in df_ratings:\n",
    "    print('For {},{} unique values present'.format(data_rat,df_ratings[data_rat].nunique()))"
   ]
  },
  {
   "cell_type": "code",
   "execution_count": 10,
   "metadata": {},
   "outputs": [
    {
     "data": {
      "text/html": [
       "<div>\n",
       "<style scoped>\n",
       "    .dataframe tbody tr th:only-of-type {\n",
       "        vertical-align: middle;\n",
       "    }\n",
       "\n",
       "    .dataframe tbody tr th {\n",
       "        vertical-align: top;\n",
       "    }\n",
       "\n",
       "    .dataframe thead th {\n",
       "        text-align: right;\n",
       "    }\n",
       "</style>\n",
       "<table border=\"1\" class=\"dataframe\">\n",
       "  <thead>\n",
       "    <tr style=\"text-align: right;\">\n",
       "      <th></th>\n",
       "      <th>userId</th>\n",
       "      <th>movieId</th>\n",
       "      <th>rating</th>\n",
       "      <th>timestamp</th>\n",
       "    </tr>\n",
       "  </thead>\n",
       "  <tbody>\n",
       "    <tr>\n",
       "      <th>count</th>\n",
       "      <td>100836.000000</td>\n",
       "      <td>100836.000000</td>\n",
       "      <td>100836.000000</td>\n",
       "      <td>1.008360e+05</td>\n",
       "    </tr>\n",
       "    <tr>\n",
       "      <th>mean</th>\n",
       "      <td>326.127564</td>\n",
       "      <td>19435.295718</td>\n",
       "      <td>3.501557</td>\n",
       "      <td>1.205946e+09</td>\n",
       "    </tr>\n",
       "    <tr>\n",
       "      <th>std</th>\n",
       "      <td>182.618491</td>\n",
       "      <td>35530.987199</td>\n",
       "      <td>1.042529</td>\n",
       "      <td>2.162610e+08</td>\n",
       "    </tr>\n",
       "    <tr>\n",
       "      <th>min</th>\n",
       "      <td>1.000000</td>\n",
       "      <td>1.000000</td>\n",
       "      <td>0.500000</td>\n",
       "      <td>8.281246e+08</td>\n",
       "    </tr>\n",
       "    <tr>\n",
       "      <th>25%</th>\n",
       "      <td>177.000000</td>\n",
       "      <td>1199.000000</td>\n",
       "      <td>3.000000</td>\n",
       "      <td>1.019124e+09</td>\n",
       "    </tr>\n",
       "    <tr>\n",
       "      <th>50%</th>\n",
       "      <td>325.000000</td>\n",
       "      <td>2991.000000</td>\n",
       "      <td>3.500000</td>\n",
       "      <td>1.186087e+09</td>\n",
       "    </tr>\n",
       "    <tr>\n",
       "      <th>75%</th>\n",
       "      <td>477.000000</td>\n",
       "      <td>8122.000000</td>\n",
       "      <td>4.000000</td>\n",
       "      <td>1.435994e+09</td>\n",
       "    </tr>\n",
       "    <tr>\n",
       "      <th>max</th>\n",
       "      <td>610.000000</td>\n",
       "      <td>193609.000000</td>\n",
       "      <td>5.000000</td>\n",
       "      <td>1.537799e+09</td>\n",
       "    </tr>\n",
       "  </tbody>\n",
       "</table>\n",
       "</div>"
      ],
      "text/plain": [
       "              userId        movieId         rating     timestamp\n",
       "count  100836.000000  100836.000000  100836.000000  1.008360e+05\n",
       "mean      326.127564   19435.295718       3.501557  1.205946e+09\n",
       "std       182.618491   35530.987199       1.042529  2.162610e+08\n",
       "min         1.000000       1.000000       0.500000  8.281246e+08\n",
       "25%       177.000000    1199.000000       3.000000  1.019124e+09\n",
       "50%       325.000000    2991.000000       3.500000  1.186087e+09\n",
       "75%       477.000000    8122.000000       4.000000  1.435994e+09\n",
       "max       610.000000  193609.000000       5.000000  1.537799e+09"
      ]
     },
     "execution_count": 10,
     "metadata": {},
     "output_type": "execute_result"
    }
   ],
   "source": [
    "#summary of ratings.csv\n",
    "df_ratings.describe()"
   ]
  },
  {
   "cell_type": "code",
   "execution_count": 11,
   "metadata": {},
   "outputs": [
    {
     "data": {
      "text/plain": [
       "0.5"
      ]
     },
     "execution_count": 11,
     "metadata": {},
     "output_type": "execute_result"
    }
   ],
   "source": [
    "#minimum rating given to a movie\n",
    "df_ratings['rating'].min() "
   ]
  },
  {
   "cell_type": "code",
   "execution_count": 12,
   "metadata": {},
   "outputs": [
    {
     "data": {
      "text/plain": [
       "5.0"
      ]
     },
     "execution_count": 12,
     "metadata": {},
     "output_type": "execute_result"
    }
   ],
   "source": [
    "#maximum rating given to a movie\n",
    "df_ratings['rating'].max()"
   ]
  },
  {
   "cell_type": "markdown",
   "metadata": {},
   "source": [
    "Load and explore the tags dataset "
   ]
  },
  {
   "cell_type": "code",
   "execution_count": 13,
   "metadata": {},
   "outputs": [
    {
     "data": {
      "text/html": [
       "<div>\n",
       "<style scoped>\n",
       "    .dataframe tbody tr th:only-of-type {\n",
       "        vertical-align: middle;\n",
       "    }\n",
       "\n",
       "    .dataframe tbody tr th {\n",
       "        vertical-align: top;\n",
       "    }\n",
       "\n",
       "    .dataframe thead th {\n",
       "        text-align: right;\n",
       "    }\n",
       "</style>\n",
       "<table border=\"1\" class=\"dataframe\">\n",
       "  <thead>\n",
       "    <tr style=\"text-align: right;\">\n",
       "      <th></th>\n",
       "      <th>userId</th>\n",
       "      <th>movieId</th>\n",
       "      <th>tag</th>\n",
       "      <th>timestamp</th>\n",
       "    </tr>\n",
       "  </thead>\n",
       "  <tbody>\n",
       "    <tr>\n",
       "      <th>0</th>\n",
       "      <td>2</td>\n",
       "      <td>60756</td>\n",
       "      <td>funny</td>\n",
       "      <td>1445714994</td>\n",
       "    </tr>\n",
       "    <tr>\n",
       "      <th>1</th>\n",
       "      <td>2</td>\n",
       "      <td>60756</td>\n",
       "      <td>Highly quotable</td>\n",
       "      <td>1445714996</td>\n",
       "    </tr>\n",
       "    <tr>\n",
       "      <th>2</th>\n",
       "      <td>2</td>\n",
       "      <td>60756</td>\n",
       "      <td>will ferrell</td>\n",
       "      <td>1445714992</td>\n",
       "    </tr>\n",
       "    <tr>\n",
       "      <th>3</th>\n",
       "      <td>2</td>\n",
       "      <td>89774</td>\n",
       "      <td>Boxing story</td>\n",
       "      <td>1445715207</td>\n",
       "    </tr>\n",
       "    <tr>\n",
       "      <th>4</th>\n",
       "      <td>2</td>\n",
       "      <td>89774</td>\n",
       "      <td>MMA</td>\n",
       "      <td>1445715200</td>\n",
       "    </tr>\n",
       "  </tbody>\n",
       "</table>\n",
       "</div>"
      ],
      "text/plain": [
       "   userId  movieId              tag   timestamp\n",
       "0       2    60756            funny  1445714994\n",
       "1       2    60756  Highly quotable  1445714996\n",
       "2       2    60756     will ferrell  1445714992\n",
       "3       2    89774     Boxing story  1445715207\n",
       "4       2    89774              MMA  1445715200"
      ]
     },
     "execution_count": 13,
     "metadata": {},
     "output_type": "execute_result"
    }
   ],
   "source": [
    "df_tags = pd.read_csv(\"Dataset/tags.csv\")\n",
    "df_tags.head()"
   ]
  },
  {
   "cell_type": "code",
   "execution_count": 14,
   "metadata": {},
   "outputs": [
    {
     "name": "stdout",
     "output_type": "stream",
     "text": [
      "<class 'pandas.core.frame.DataFrame'>\n",
      "RangeIndex: 3683 entries, 0 to 3682\n",
      "Data columns (total 4 columns):\n",
      " #   Column     Non-Null Count  Dtype \n",
      "---  ------     --------------  ----- \n",
      " 0   userId     3683 non-null   int64 \n",
      " 1   movieId    3683 non-null   int64 \n",
      " 2   tag        3683 non-null   object\n",
      " 3   timestamp  3683 non-null   int64 \n",
      "dtypes: int64(3), object(1)\n",
      "memory usage: 115.2+ KB\n"
     ]
    }
   ],
   "source": [
    "df_tags.info()"
   ]
  },
  {
   "cell_type": "code",
   "execution_count": 15,
   "metadata": {},
   "outputs": [
    {
     "data": {
      "text/plain": [
       "(3683, 4)"
      ]
     },
     "execution_count": 15,
     "metadata": {},
     "output_type": "execute_result"
    }
   ],
   "source": [
    "#check dataset shape\n",
    "df_tags.shape"
   ]
  },
  {
   "cell_type": "code",
   "execution_count": 16,
   "metadata": {},
   "outputs": [
    {
     "name": "stdout",
     "output_type": "stream",
     "text": [
      "For userId,58 unique values present\n",
      "For movieId,1572 unique values present\n",
      "For tag,1589 unique values present\n",
      "For timestamp,3411 unique values present\n"
     ]
    }
   ],
   "source": [
    "#check dataset uniqueness\n",
    "for data_tag in df_tags:\n",
    "    print('For {},{} unique values present'.format(data_tag,df_tags[data_tag].nunique()))"
   ]
  },
  {
   "cell_type": "markdown",
   "metadata": {},
   "source": [
    "Load and explore the links dataset "
   ]
  },
  {
   "cell_type": "code",
   "execution_count": 17,
   "metadata": {},
   "outputs": [
    {
     "data": {
      "text/html": [
       "<div>\n",
       "<style scoped>\n",
       "    .dataframe tbody tr th:only-of-type {\n",
       "        vertical-align: middle;\n",
       "    }\n",
       "\n",
       "    .dataframe tbody tr th {\n",
       "        vertical-align: top;\n",
       "    }\n",
       "\n",
       "    .dataframe thead th {\n",
       "        text-align: right;\n",
       "    }\n",
       "</style>\n",
       "<table border=\"1\" class=\"dataframe\">\n",
       "  <thead>\n",
       "    <tr style=\"text-align: right;\">\n",
       "      <th></th>\n",
       "      <th>movieId</th>\n",
       "      <th>imdbId</th>\n",
       "      <th>tmdbId</th>\n",
       "    </tr>\n",
       "  </thead>\n",
       "  <tbody>\n",
       "    <tr>\n",
       "      <th>0</th>\n",
       "      <td>1</td>\n",
       "      <td>114709</td>\n",
       "      <td>862.0</td>\n",
       "    </tr>\n",
       "    <tr>\n",
       "      <th>1</th>\n",
       "      <td>2</td>\n",
       "      <td>113497</td>\n",
       "      <td>8844.0</td>\n",
       "    </tr>\n",
       "    <tr>\n",
       "      <th>2</th>\n",
       "      <td>3</td>\n",
       "      <td>113228</td>\n",
       "      <td>15602.0</td>\n",
       "    </tr>\n",
       "    <tr>\n",
       "      <th>3</th>\n",
       "      <td>4</td>\n",
       "      <td>114885</td>\n",
       "      <td>31357.0</td>\n",
       "    </tr>\n",
       "    <tr>\n",
       "      <th>4</th>\n",
       "      <td>5</td>\n",
       "      <td>113041</td>\n",
       "      <td>11862.0</td>\n",
       "    </tr>\n",
       "  </tbody>\n",
       "</table>\n",
       "</div>"
      ],
      "text/plain": [
       "   movieId  imdbId   tmdbId\n",
       "0        1  114709    862.0\n",
       "1        2  113497   8844.0\n",
       "2        3  113228  15602.0\n",
       "3        4  114885  31357.0\n",
       "4        5  113041  11862.0"
      ]
     },
     "execution_count": 17,
     "metadata": {},
     "output_type": "execute_result"
    }
   ],
   "source": [
    "df_links = pd.read_csv(\"Dataset/links.csv\")\n",
    "df_links.head()"
   ]
  },
  {
   "cell_type": "code",
   "execution_count": 18,
   "metadata": {},
   "outputs": [
    {
     "name": "stdout",
     "output_type": "stream",
     "text": [
      "<class 'pandas.core.frame.DataFrame'>\n",
      "RangeIndex: 9742 entries, 0 to 9741\n",
      "Data columns (total 3 columns):\n",
      " #   Column   Non-Null Count  Dtype  \n",
      "---  ------   --------------  -----  \n",
      " 0   movieId  9742 non-null   int64  \n",
      " 1   imdbId   9742 non-null   int64  \n",
      " 2   tmdbId   9734 non-null   float64\n",
      "dtypes: float64(1), int64(2)\n",
      "memory usage: 228.5 KB\n"
     ]
    }
   ],
   "source": [
    "df_links.info()"
   ]
  },
  {
   "cell_type": "code",
   "execution_count": 19,
   "metadata": {},
   "outputs": [
    {
     "data": {
      "text/plain": [
       "(9742, 3)"
      ]
     },
     "execution_count": 19,
     "metadata": {},
     "output_type": "execute_result"
    }
   ],
   "source": [
    "#check dataset shape\n",
    "df_links.shape"
   ]
  },
  {
   "cell_type": "code",
   "execution_count": 20,
   "metadata": {},
   "outputs": [
    {
     "name": "stdout",
     "output_type": "stream",
     "text": [
      "For movieId,9742 unique values present\n",
      "For imdbId,9742 unique values present\n",
      "For tmdbId,9733 unique values present\n"
     ]
    }
   ],
   "source": [
    "#check dataset links\n",
    "for data_lin in df_links:\n",
    "    print('For {},{} unique values present'.format(data_lin,df_links[data_lin].nunique()))"
   ]
  },
  {
   "cell_type": "markdown",
   "metadata": {},
   "source": [
    "# 1.3 Choosing Dataset"
   ]
  },
  {
   "cell_type": "markdown",
   "metadata": {},
   "source": [
    "The project aims at building a recommendation system based on movie ratings, with these we will merge df_movies and df_ratings"
   ]
  },
  {
   "cell_type": "code",
   "execution_count": 21,
   "metadata": {},
   "outputs": [
    {
     "name": "stdout",
     "output_type": "stream",
     "text": [
      "Merged Dataframe Info:\n",
      "<class 'pandas.core.frame.DataFrame'>\n",
      "Int64Index: 100836 entries, 0 to 100835\n",
      "Data columns (total 6 columns):\n",
      " #   Column     Non-Null Count   Dtype  \n",
      "---  ------     --------------   -----  \n",
      " 0   movieId    100836 non-null  int64  \n",
      " 1   title      100836 non-null  object \n",
      " 2   genres     100836 non-null  object \n",
      " 3   userId     100836 non-null  int64  \n",
      " 4   rating     100836 non-null  float64\n",
      " 5   timestamp  100836 non-null  int64  \n",
      "dtypes: float64(1), int64(3), object(2)\n",
      "memory usage: 5.4+ MB\n"
     ]
    }
   ],
   "source": [
    "# Merge the dataframes\n",
    "df2 = pd.merge(df_movies, df_ratings, on='movieId')\n",
    "\n",
    "# Print the information of the merged dataframe\n",
    "print(\"Merged Dataframe Info:\")\n",
    "df2.info()"
   ]
  },
  {
   "cell_type": "code",
   "execution_count": 22,
   "metadata": {},
   "outputs": [
    {
     "data": {
      "text/html": [
       "<div>\n",
       "<style scoped>\n",
       "    .dataframe tbody tr th:only-of-type {\n",
       "        vertical-align: middle;\n",
       "    }\n",
       "\n",
       "    .dataframe tbody tr th {\n",
       "        vertical-align: top;\n",
       "    }\n",
       "\n",
       "    .dataframe thead th {\n",
       "        text-align: right;\n",
       "    }\n",
       "</style>\n",
       "<table border=\"1\" class=\"dataframe\">\n",
       "  <thead>\n",
       "    <tr style=\"text-align: right;\">\n",
       "      <th></th>\n",
       "      <th>movieId</th>\n",
       "      <th>title</th>\n",
       "      <th>genres</th>\n",
       "      <th>userId</th>\n",
       "      <th>rating</th>\n",
       "      <th>timestamp</th>\n",
       "    </tr>\n",
       "  </thead>\n",
       "  <tbody>\n",
       "    <tr>\n",
       "      <th>0</th>\n",
       "      <td>1</td>\n",
       "      <td>Toy Story (1995)</td>\n",
       "      <td>Adventure|Animation|Children|Comedy|Fantasy</td>\n",
       "      <td>1</td>\n",
       "      <td>4.0</td>\n",
       "      <td>964982703</td>\n",
       "    </tr>\n",
       "    <tr>\n",
       "      <th>1</th>\n",
       "      <td>1</td>\n",
       "      <td>Toy Story (1995)</td>\n",
       "      <td>Adventure|Animation|Children|Comedy|Fantasy</td>\n",
       "      <td>5</td>\n",
       "      <td>4.0</td>\n",
       "      <td>847434962</td>\n",
       "    </tr>\n",
       "    <tr>\n",
       "      <th>2</th>\n",
       "      <td>1</td>\n",
       "      <td>Toy Story (1995)</td>\n",
       "      <td>Adventure|Animation|Children|Comedy|Fantasy</td>\n",
       "      <td>7</td>\n",
       "      <td>4.5</td>\n",
       "      <td>1106635946</td>\n",
       "    </tr>\n",
       "    <tr>\n",
       "      <th>3</th>\n",
       "      <td>1</td>\n",
       "      <td>Toy Story (1995)</td>\n",
       "      <td>Adventure|Animation|Children|Comedy|Fantasy</td>\n",
       "      <td>15</td>\n",
       "      <td>2.5</td>\n",
       "      <td>1510577970</td>\n",
       "    </tr>\n",
       "    <tr>\n",
       "      <th>4</th>\n",
       "      <td>1</td>\n",
       "      <td>Toy Story (1995)</td>\n",
       "      <td>Adventure|Animation|Children|Comedy|Fantasy</td>\n",
       "      <td>17</td>\n",
       "      <td>4.5</td>\n",
       "      <td>1305696483</td>\n",
       "    </tr>\n",
       "  </tbody>\n",
       "</table>\n",
       "</div>"
      ],
      "text/plain": [
       "   movieId             title                                       genres  \\\n",
       "0        1  Toy Story (1995)  Adventure|Animation|Children|Comedy|Fantasy   \n",
       "1        1  Toy Story (1995)  Adventure|Animation|Children|Comedy|Fantasy   \n",
       "2        1  Toy Story (1995)  Adventure|Animation|Children|Comedy|Fantasy   \n",
       "3        1  Toy Story (1995)  Adventure|Animation|Children|Comedy|Fantasy   \n",
       "4        1  Toy Story (1995)  Adventure|Animation|Children|Comedy|Fantasy   \n",
       "\n",
       "   userId  rating   timestamp  \n",
       "0       1     4.0   964982703  \n",
       "1       5     4.0   847434962  \n",
       "2       7     4.5  1106635946  \n",
       "3      15     2.5  1510577970  \n",
       "4      17     4.5  1305696483  "
      ]
     },
     "execution_count": 22,
     "metadata": {},
     "output_type": "execute_result"
    }
   ],
   "source": [
    "#Review merged dataframe\n",
    "df2.head()"
   ]
  },
  {
   "cell_type": "code",
   "execution_count": 23,
   "metadata": {},
   "outputs": [
    {
     "data": {
      "text/plain": [
       "movieId      0\n",
       "title        0\n",
       "genres       0\n",
       "userId       0\n",
       "rating       0\n",
       "timestamp    0\n",
       "dtype: int64"
      ]
     },
     "execution_count": 23,
     "metadata": {},
     "output_type": "execute_result"
    }
   ],
   "source": [
    "# Check for missing values in the MovieLens dataset\n",
    "df2.isnull().sum()"
   ]
  },
  {
   "cell_type": "markdown",
   "metadata": {},
   "source": [
    "# 2. DATA ANALYSIS"
   ]
  },
  {
   "cell_type": "markdown",
   "metadata": {},
   "source": [
    "Analysis movie preference over the years. \n",
    "\n",
    "To understand userid movie preference produced over the years, we will start by extracting the year from the title."
   ]
  },
  {
   "cell_type": "code",
   "execution_count": 24,
   "metadata": {},
   "outputs": [
    {
     "data": {
      "text/html": [
       "<div>\n",
       "<style scoped>\n",
       "    .dataframe tbody tr th:only-of-type {\n",
       "        vertical-align: middle;\n",
       "    }\n",
       "\n",
       "    .dataframe tbody tr th {\n",
       "        vertical-align: top;\n",
       "    }\n",
       "\n",
       "    .dataframe thead th {\n",
       "        text-align: right;\n",
       "    }\n",
       "</style>\n",
       "<table border=\"1\" class=\"dataframe\">\n",
       "  <thead>\n",
       "    <tr style=\"text-align: right;\">\n",
       "      <th></th>\n",
       "      <th>movieId</th>\n",
       "      <th>title</th>\n",
       "      <th>genres</th>\n",
       "      <th>userId</th>\n",
       "      <th>rating</th>\n",
       "      <th>timestamp</th>\n",
       "      <th>year</th>\n",
       "    </tr>\n",
       "  </thead>\n",
       "  <tbody>\n",
       "    <tr>\n",
       "      <th>0</th>\n",
       "      <td>1</td>\n",
       "      <td>Toy Story</td>\n",
       "      <td>Adventure|Animation|Children|Comedy|Fantasy</td>\n",
       "      <td>1</td>\n",
       "      <td>4.0</td>\n",
       "      <td>964982703</td>\n",
       "      <td>1995</td>\n",
       "    </tr>\n",
       "    <tr>\n",
       "      <th>1</th>\n",
       "      <td>1</td>\n",
       "      <td>Toy Story</td>\n",
       "      <td>Adventure|Animation|Children|Comedy|Fantasy</td>\n",
       "      <td>5</td>\n",
       "      <td>4.0</td>\n",
       "      <td>847434962</td>\n",
       "      <td>1995</td>\n",
       "    </tr>\n",
       "    <tr>\n",
       "      <th>2</th>\n",
       "      <td>1</td>\n",
       "      <td>Toy Story</td>\n",
       "      <td>Adventure|Animation|Children|Comedy|Fantasy</td>\n",
       "      <td>7</td>\n",
       "      <td>4.5</td>\n",
       "      <td>1106635946</td>\n",
       "      <td>1995</td>\n",
       "    </tr>\n",
       "    <tr>\n",
       "      <th>3</th>\n",
       "      <td>1</td>\n",
       "      <td>Toy Story</td>\n",
       "      <td>Adventure|Animation|Children|Comedy|Fantasy</td>\n",
       "      <td>15</td>\n",
       "      <td>2.5</td>\n",
       "      <td>1510577970</td>\n",
       "      <td>1995</td>\n",
       "    </tr>\n",
       "    <tr>\n",
       "      <th>4</th>\n",
       "      <td>1</td>\n",
       "      <td>Toy Story</td>\n",
       "      <td>Adventure|Animation|Children|Comedy|Fantasy</td>\n",
       "      <td>17</td>\n",
       "      <td>4.5</td>\n",
       "      <td>1305696483</td>\n",
       "      <td>1995</td>\n",
       "    </tr>\n",
       "  </tbody>\n",
       "</table>\n",
       "</div>"
      ],
      "text/plain": [
       "   movieId      title                                       genres  userId  \\\n",
       "0        1  Toy Story  Adventure|Animation|Children|Comedy|Fantasy       1   \n",
       "1        1  Toy Story  Adventure|Animation|Children|Comedy|Fantasy       5   \n",
       "2        1  Toy Story  Adventure|Animation|Children|Comedy|Fantasy       7   \n",
       "3        1  Toy Story  Adventure|Animation|Children|Comedy|Fantasy      15   \n",
       "4        1  Toy Story  Adventure|Animation|Children|Comedy|Fantasy      17   \n",
       "\n",
       "   rating   timestamp  year  \n",
       "0     4.0   964982703  1995  \n",
       "1     4.0   847434962  1995  \n",
       "2     4.5  1106635946  1995  \n",
       "3     2.5  1510577970  1995  \n",
       "4     4.5  1305696483  1995  "
      ]
     },
     "execution_count": 24,
     "metadata": {},
     "output_type": "execute_result"
    }
   ],
   "source": [
    "# Extract the year from 'title' column\n",
    "df2['year'] = df2['title'].str.extract(r'\\((\\d{4})\\)')\n",
    "df2['title'] = df2['title'].str.replace(r'\\s*\\(\\d{4}\\)', '')\n",
    "\n",
    "# Print the updated DataFrame\n",
    "df2.head()"
   ]
  },
  {
   "cell_type": "markdown",
   "metadata": {},
   "source": [
    "For general understanding, we will analyse the top 10 most produced genres over the years"
   ]
  },
  {
   "cell_type": "code",
   "execution_count": 25,
   "metadata": {},
   "outputs": [
    {
     "data": {
      "image/png": "[encoded data removed]",
      "text/plain": [
       "<Figure size 720x432 with 1 Axes>"
      ]
     },
     "metadata": {
      "needs_background": "light"
     },
     "output_type": "display_data"
    }
   ],
   "source": [
    "# Group by year and genre, and count the number of movies\n",
    "genre_counts = df2.groupby(['year', 'genres']).size().unstack()\n",
    "\n",
    "# Get the top ten most produced genres\n",
    "top_genres = genre_counts.sum().nlargest(10).index\n",
    "\n",
    "# Filter the genre counts for the top ten genres\n",
    "top_genre_counts = genre_counts[top_genres]\n",
    "\n",
    "# Plot the top ten most produced genres over the years\n",
    "top_genre_counts.plot(kind='line', figsize=(10, 6))\n",
    "plt.xlabel('Year')\n",
    "plt.ylabel('Number of Movies')\n",
    "plt.title('Top Ten Most Produced Genres Over the Years')\n",
    "plt.legend(title='Genres')\n",
    "plt.show()"
   ]
  },
  {
   "cell_type": "markdown",
   "metadata": {},
   "source": [
    "Analyse the top 10 most rated movie genres over the years "
   ]
  },
  {
   "cell_type": "code",
   "execution_count": 26,
   "metadata": {},
   "outputs": [
    {
     "data": {
      "image/png": "[encoded data removed]",
      "text/plain": [
       "<Figure size 720x432 with 1 Axes>"
      ]
     },
     "metadata": {
      "needs_background": "light"
     },
     "output_type": "display_data"
    }
   ],
   "source": [
    "# Calculate the total number of ratings for each genre\n",
    "genre_ratings = df2.groupby('genres')['rating'].count()\n",
    "\n",
    "# Get the top 10 most rated genres\n",
    "top_rated_genres = genre_ratings.nlargest(10)\n",
    "\n",
    "# Plot the top 10 most rated genres\n",
    "plt.figure(figsize=(10, 6))\n",
    "top_rated_genres.plot(kind='bar')\n",
    "plt.xlabel('Genres')\n",
    "plt.ylabel('Number of Ratings')\n",
    "plt.title('Top 10 Most Rated Genres')\n",
    "plt.show()"
   ]
  },
  {
   "cell_type": "markdown",
   "metadata": {},
   "source": [
    "Analyse the number of titles rated by each userid"
   ]
  },
  {
   "cell_type": "code",
   "execution_count": 47,
   "metadata": {},
   "outputs": [
    {
     "name": "stdout",
     "output_type": "stream",
     "text": [
      "userId\n",
      "1       229\n",
      "2        29\n",
      "3        39\n",
      "4       216\n",
      "5        44\n",
      "       ... \n",
      "606    1105\n",
      "607     187\n",
      "608     825\n",
      "609      37\n",
      "610    1298\n",
      "Name: title, Length: 610, dtype: int64\n"
     ]
    }
   ],
   "source": [
    "# Count the number of rated titles for each user ID\n",
    "titles_per_user = df2.groupby('userId')['title'].nunique()\n",
    "\n",
    "# Print the number of rated titles for each user ID\n",
    "print(titles_per_user)"
   ]
  },
  {
   "cell_type": "markdown",
   "metadata": {},
   "source": [
    "View top 10 users who rated the most titles"
   ]
  },
  {
   "cell_type": "code",
   "execution_count": 48,
   "metadata": {},
   "outputs": [
    {
     "data": {
      "image/png": "[encoded data removed]",
      "text/plain": [
       "<Figure size 720x432 with 1 Axes>"
      ]
     },
     "metadata": {
      "needs_background": "light"
     },
     "output_type": "display_data"
    }
   ],
   "source": [
    "# Count the number of rated titles for each user ID\n",
    "titles_per_user = df2.groupby('userId')['title'].nunique()\n",
    "\n",
    "# Get the top 10 users who rated the most titles\n",
    "top_users = titles_per_user.nlargest(10)\n",
    "\n",
    "# Plot the user IDs who rated the most titles\n",
    "plt.figure(figsize=(10, 6))\n",
    "top_users.plot(kind='bar')\n",
    "plt.xlabel('User ID')\n",
    "plt.ylabel('Number of Rated Titles')\n",
    "plt.title('Top 10 Users Who Rated the Most Titles')\n",
    "plt.show()"
   ]
  },
  {
   "cell_type": "markdown",
   "metadata": {},
   "source": [
    "# 3. COLLABORATIVE FILTERING RECOMMENDATION SYSTEM "
   ]
  },
  {
   "cell_type": "raw",
   "metadata": {},
   "source": [
    "Import libary packages required for building a recommendation system"
   ]
  },
  {
   "cell_type": "code",
   "execution_count": 39,
   "metadata": {},
   "outputs": [],
   "source": [
    "# importing relevant libraries\n",
    "from surprise import Dataset, Reader, KNNBasic\n",
    "from surprise.model_selection import train_test_split\n",
    "from surprise import Dataset\n",
    "from surprise import Reader\n",
    "from surprise.model_selection import train_test_split\n",
    "from surprise.model_selection import cross_validate\n",
    "from surprise.prediction_algorithms import SVD\n",
    "from surprise.prediction_algorithms import KNNWithMeans, KNNBasic, KNNBaseline\n",
    "from surprise.model_selection import GridSearchCV\n",
    "import numpy as np"
   ]
  },
  {
   "cell_type": "code",
   "execution_count": 37,
   "metadata": {},
   "outputs": [],
   "source": [
    "# Convert the DataFrame into a Surprise Dataset\n",
    "reader = Reader(rating_scale=(0.5, 5.0))\n",
    "data = Dataset.load_from_df(df2[['userId', 'movieId', 'rating']], reader)\n",
    "\n",
    "# Split the data into training and testing sets\n",
    "trainset, testset = train_test_split(data, test_size=0.2)"
   ]
  },
  {
   "cell_type": "code",
   "execution_count": 38,
   "metadata": {},
   "outputs": [
    {
     "name": "stdout",
     "output_type": "stream",
     "text": [
      "Number of users:  610 \n",
      "\n",
      "Number of items:  9724\n"
     ]
    }
   ],
   "source": [
    "dataset = data.build_full_trainset()\n",
    "print('Number of users: ', dataset.n_users, '\\n')\n",
    "print('Number of items: ', dataset.n_items)"
   ]
  },
  {
   "cell_type": "markdown",
   "metadata": {},
   "source": [
    "Hypertunning Dataset to get the best parameters"
   ]
  },
  {
   "cell_type": "code",
   "execution_count": 42,
   "metadata": {},
   "outputs": [],
   "source": [
    "## Perform a gridsearch with SVD\n",
    "params = {'n_factors': [20, 50, 100],\n",
    "         'reg_all': [0.02, 0.05, 0.1]}\n",
    "g_s_svd = GridSearchCV(SVD,param_grid=params,n_jobs=-1)\n",
    "g_s_svd.fit(data)"
   ]
  },
  {
   "cell_type": "code",
   "execution_count": 43,
   "metadata": {},
   "outputs": [
    {
     "name": "stdout",
     "output_type": "stream",
     "text": [
      "{'rmse': 0.8693804004379402, 'mae': 0.6684190070988877}\n",
      "{'rmse': {'n_factors': 100, 'reg_all': 0.05}, 'mae': {'n_factors': 100, 'reg_all': 0.05}}\n"
     ]
    }
   ],
   "source": [
    "print(g_s_svd.best_score)\n",
    "print(g_s_svd.best_params)"
   ]
  },
  {
   "cell_type": "markdown",
   "metadata": {},
   "source": [
    "The result shows the best scores achieved by the SVD algorithm is RMSE OF 0.8693804004379402 and MAE of 0.6684190070988877. From the grid search we also observe that the best parameter combination for both RMSE and MAE is 'n_factors': 100, 'reg_all': 0.05"
   ]
  },
  {
   "cell_type": "code",
   "execution_count": 44,
   "metadata": {},
   "outputs": [],
   "source": [
    "# cross validating with KNNBasic\n",
    "knn_basic = KNNBasic(sim_options={'name':'pearson', 'user_based':True})\n",
    "cv_knn_basic = cross_validate(knn_basic, data, n_jobs=-1)"
   ]
  },
  {
   "cell_type": "code",
   "execution_count": 45,
   "metadata": {},
   "outputs": [
    {
     "name": "stdout",
     "output_type": "stream",
     "text": [
      "('test_rmse', array([0.9776384 , 0.97364323, 0.96994794, 0.96968817, 0.97413416]))\n",
      "('test_mae', array([0.75447914, 0.75065675, 0.74897406, 0.74925668, 0.7540623 ]))\n",
      "('fit_time', (1.4556915760040283, 1.4852793216705322, 1.5272865295410156, 1.5236599445343018, 1.5155739784240723))\n",
      "('test_time', (2.3815970420837402, 2.407072067260742, 2.3815157413482666, 2.429853677749634, 2.3212687969207764))\n",
      "-----------------------\n",
      "0.9730103781790413\n"
     ]
    }
   ],
   "source": [
    "# print out the average RMSE score for the test set\n",
    "for i in cv_knn_basic.items():\n",
    "    print(i)\n",
    "print('-----------------------')\n",
    "print(np.mean(cv_knn_basic['test_rmse']))"
   ]
  },
  {
   "cell_type": "markdown",
   "metadata": {},
   "source": [
    "The results test_rmse shows RMSE for each fold of the cross-validation, test_mae shows the MAE for each fold of the cross-validation, the fit_time shows the time taken to fit(train) the algorithm on each fold of the cross-validation and lastly test_time shows time taken to test(predict) the algorithm on each fold of the cross validation.\n",
    "0.9730103781790413 shows the average RMSE score across all the cross-validation."
   ]
  },
  {
   "cell_type": "code",
   "execution_count": 46,
   "metadata": {},
   "outputs": [
    {
     "name": "stdout",
     "output_type": "stream",
     "text": [
      "Estimating biases using als...\n",
      "Computing the pearson similarity matrix...\n",
      "Done computing similarity matrix.\n",
      "Estimating biases using als...\n",
      "Computing the pearson similarity matrix...\n",
      "Done computing similarity matrix.\n",
      "Estimating biases using als...\n",
      "Computing the pearson similarity matrix...\n",
      "Done computing similarity matrix.\n",
      "Estimating biases using als...\n",
      "Computing the pearson similarity matrix...\n",
      "Done computing similarity matrix.\n",
      "Estimating biases using als...\n",
      "Computing the pearson similarity matrix...\n",
      "Done computing similarity matrix.\n"
     ]
    }
   ],
   "source": [
    "# cross validating with KNNBaseline\n",
    "knn_baseline = KNNBaseline(sim_options={'name':'pearson', 'user_based':True})\n",
    "cv_knn_baseline = cross_validate(knn_baseline,data)"
   ]
  },
  {
   "cell_type": "code",
   "execution_count": 47,
   "metadata": {},
   "outputs": [
    {
     "name": "stdout",
     "output_type": "stream",
     "text": [
      "('test_rmse', array([0.87777331, 0.8803434 , 0.87929725, 0.87172354, 0.87997493]))\n",
      "('test_mae', array([0.67203223, 0.67060564, 0.67041751, 0.66508865, 0.67542818]))\n",
      "('fit_time', (1.1380581855773926, 1.2103826999664307, 1.0464482307434082, 1.0141994953155518, 1.026155948638916))\n",
      "('test_time', (1.9030404090881348, 1.9322185516357422, 1.723923921585083, 1.6718673706054688, 1.739037275314331))\n"
     ]
    },
    {
     "data": {
      "text/plain": [
       "0.8778224851795511"
      ]
     },
     "execution_count": 47,
     "metadata": {},
     "output_type": "execute_result"
    }
   ],
   "source": [
    "# print out the average score for the test set\n",
    "for i in cv_knn_baseline.items():\n",
    "    print(i)\n",
    "\n",
    "np.mean(cv_knn_baseline['test_rmse'])"
   ]
  },
  {
   "cell_type": "markdown",
   "metadata": {},
   "source": [
    "The results test_rmse shows RMSE for each fold of the cross-validation, test_mae shows the MAE for each fold of the cross-validation, the fit_time shows the time taken to fit(train) the algorithm on each fold of the cross-validation and lastly test_time shows time taken to test(predict) the algorithm on each fold of the cross validation.\n",
    "0.8774070745386995 shows the average RMSE score across all the cross-validation."
   ]
  },
  {
   "cell_type": "markdown",
   "metadata": {},
   "source": [
    "Comparing the RMSE values between KNNBasic and KNNBaseline:\n",
    "\n",
    "1. The KNNBaseline algorithm has a lower RMSE of 0.8774070745386995, which suggests that it has better prediction accuracy compared to KNNBasic.\n",
    "2. The KNNBasic algorithm has a higher RMSE of 0.9730103781790413, indicating a slightly higher prediction error.\n",
    "\n",
    "Based on the RMSE values provided, KNNBaseline appears to outperform KNNBasic in terms of prediction accuracy and recommendation quality."
   ]
  },
  {
   "cell_type": "markdown",
   "metadata": {},
   "source": [
    "## 3.1 MAKING PREDICTIONS"
   ]
  },
  {
   "cell_type": "markdown",
   "metadata": {},
   "source": [
    "Use the best parameters observed during the grid search to make predictions"
   ]
  },
  {
   "cell_type": "code",
   "execution_count": 49,
   "metadata": {},
   "outputs": [
    {
     "data": {
      "text/plain": [
       "<surprise.prediction_algorithms.matrix_factorization.SVD at 0x23745bc4640>"
      ]
     },
     "execution_count": 49,
     "metadata": {},
     "output_type": "execute_result"
    }
   ],
   "source": [
    "#instantiate SVD using best params and fit the dataset\n",
    "svd = SVD(n_factors= 50, reg_all=0.05)\n",
    "svd.fit(dataset)"
   ]
  },
  {
   "cell_type": "markdown",
   "metadata": {},
   "source": [
    "Let's make a simple prediction"
   ]
  },
  {
   "cell_type": "code",
   "execution_count": 50,
   "metadata": {},
   "outputs": [
    {
     "data": {
      "text/plain": [
       "Prediction(uid=2, iid=4, r_ui=None, est=3.07918579169659, details={'was_impossible': False})"
      ]
     },
     "execution_count": 50,
     "metadata": {},
     "output_type": "execute_result"
    }
   ],
   "source": [
    "svd.predict(2, 4)"
   ]
  },
  {
   "cell_type": "markdown",
   "metadata": {},
   "source": [
    "The SVD model predicts that user 2 would give a rating of approximately 3.08 for movieID 4. This shows that the model is working "
   ]
  },
  {
   "cell_type": "markdown",
   "metadata": {},
   "source": [
    "## 3.2 MAKING RECOMMENDATIONS"
   ]
  },
  {
   "cell_type": "markdown",
   "metadata": {},
   "source": [
    "Create a function that provides an interactive way for a user to rate movies by randomly selecting movies from the dataframe and collecting their ratings."
   ]
  },
  {
   "cell_type": "code",
   "execution_count": 51,
   "metadata": {},
   "outputs": [],
   "source": [
    "def movie_rater(data,num, genre=None):\n",
    "    userID = 1000\n",
    "    rating_list = []\n",
    "    while num > 0:\n",
    "        if genre:\n",
    "            movie = data[data['genres'].str.contains(genre)].sample(1)\n",
    "        else:\n",
    "            movie = data.sample(1)\n",
    "        print(movie)\n",
    "        rating = input('How do you rate this movie on a scale of 1-5, press n if you have not seen :\\n')\n",
    "        if rating == 'n':\n",
    "            continue\n",
    "        else:\n",
    "            rating_one_movie = {'userId':userID,'movieId':movie['movieId'].values[0],'rating':rating}\n",
    "            rating_list.append(rating_one_movie) \n",
    "            num -= 1\n",
    "    return rating_list"
   ]
  },
  {
   "cell_type": "code",
   "execution_count": 52,
   "metadata": {},
   "outputs": [
    {
     "name": "stdout",
     "output_type": "stream",
     "text": [
      "       movieId              title  genres  userId  rating   timestamp  year\n",
      "69959     6166  Dennis the Menace  Comedy     608     1.0  1117674623  1993\n",
      "How do you rate this movie on a scale of 1-5, press n if you have not seen :\n",
      "3\n",
      "       movieId        title          genres  userId  rating   timestamp  year\n",
      "40731     2174  Beetlejuice  Comedy|Fantasy     220     3.5  1230083301  1988\n",
      "How do you rate this movie on a scale of 1-5, press n if you have not seen :\n",
      "4\n",
      "       movieId           title        genres  userId  rating  timestamp  year\n",
      "13656      500  Mrs. Doubtfire  Comedy|Drama     395     3.0  841503730  1993\n",
      "How do you rate this movie on a scale of 1-5, press n if you have not seen :\n",
      "5\n",
      "       movieId  title                                 genres  userId  rating  \\\n",
      "15381      587  Ghost  Comedy|Drama|Fantasy|Romance|Thriller     177     3.5   \n",
      "\n",
      "        timestamp  year  \n",
      "15381  1435533683  1990  \n",
      "How do you rate this movie on a scale of 1-5, press n if you have not seen :\n",
      "2\n"
     ]
    }
   ],
   "source": [
    "## try out the new function here!\n",
    "user_rating = movie_rater(df2, 4, 'Comedy')"
   ]
  },
  {
   "cell_type": "markdown",
   "metadata": {},
   "source": [
    "From the above, the function movie_rater has enabled us collect ratings for differ comedy movies from userid 4"
   ]
  },
  {
   "cell_type": "code",
   "execution_count": 69,
   "metadata": {},
   "outputs": [
    {
     "data": {
      "text/plain": [
       "[{'userId': 1000, 'movieId': 203, 'rating': '4'},\n",
       " {'userId': 1000, 'movieId': 450, 'rating': '3'},\n",
       " {'userId': 1000, 'movieId': 3175, 'rating': '5'},\n",
       " {'userId': 1000, 'movieId': 339, 'rating': '3.5'}]"
      ]
     },
     "execution_count": 69,
     "metadata": {},
     "output_type": "execute_result"
    }
   ],
   "source": [
    "user_rating"
   ]
  },
  {
   "cell_type": "markdown",
   "metadata": {},
   "source": [
    "# 3.2.1. MAKING PREDICTIONS WITH THE NEW RATINGS"
   ]
  },
  {
   "cell_type": "markdown",
   "metadata": {},
   "source": [
    "Based on the ratings collected using the movie_rater function, we will recommend new movies to the users"
   ]
  },
  {
   "cell_type": "code",
   "execution_count": 54,
   "metadata": {},
   "outputs": [],
   "source": [
    "# Concatenate the new ratings with the original ratings DataFrame\n",
    "merged_ratings_df = pd.concat([df2, new_ratings_df], ignore_index=True)\n",
    "\n",
    "# Load the merged ratings DataFrame into a Surprise Dataset\n",
    "reader = Reader(rating_scale=(1, 5))  # Modify the rating scale if necessary\n",
    "new_data = Dataset.load_from_df(merged_ratings_df[['userId', 'movieId', 'rating']], reader)\n",
    "\n",
    "# We will proceed with building the recommendation model using the merged dataset and perform any desired operations\n",
    "# such as training, testing, and making recommendations"
   ]
  },
  {
   "cell_type": "code",
   "execution_count": 55,
   "metadata": {},
   "outputs": [
    {
     "data": {
      "text/plain": [
       "<surprise.prediction_algorithms.matrix_factorization.SVD at 0x23745bc45e0>"
      ]
     },
     "execution_count": 55,
     "metadata": {},
     "output_type": "execute_result"
    }
   ],
   "source": [
    "# train a model using the new combined DataFrame\n",
    "svd_ = SVD(n_factors= 50, reg_all=0.05)\n",
    "svd_.fit(new_data.build_full_trainset())"
   ]
  },
  {
   "cell_type": "code",
   "execution_count": 56,
   "metadata": {},
   "outputs": [],
   "source": [
    "# make predictions for the user\n",
    "# you'll probably want to create a list of tuples in the format (movie_id, predicted_score)\n",
    "list_of_movies = []\n",
    "for m_id in df2['movieId'].unique():\n",
    "    list_of_movies.append( (m_id,svd_.predict(1000,m_id)[3]))"
   ]
  },
  {
   "cell_type": "code",
   "execution_count": 57,
   "metadata": {},
   "outputs": [],
   "source": [
    "# order the predictions from highest to lowest rated\n",
    "ranked_movies = sorted(list_of_movies, key=lambda x:x[1], reverse=True)"
   ]
  },
  {
   "cell_type": "markdown",
   "metadata": {},
   "source": [
    "Create a function that takes a list of user ratings, matches the movie IDs with their titles from a DataFrame, and prints the top n recommended movies based on the ratings."
   ]
  },
  {
   "cell_type": "code",
   "execution_count": 59,
   "metadata": {},
   "outputs": [
    {
     "name": "stdout",
     "output_type": "stream",
     "text": [
      "Recommendation #  1 :  2582    Guess Who's Coming to Dinner (1967)\n",
      "Name: title, dtype: object \n",
      "\n",
      "Recommendation #  2 :  694    Casablanca (1942)\n",
      "Name: title, dtype: object \n",
      "\n",
      "Recommendation #  3 :  4909    Eternal Sunshine of the Spotless Mind (2004)\n",
      "Name: title, dtype: object \n",
      "\n",
      "Recommendation #  4 :  9618    Three Billboards Outside Ebbing, Missouri (2017)\n",
      "Name: title, dtype: object \n",
      "\n",
      "Recommendation #  5 :  2504    Never Cry Wolf (1983)\n",
      "Name: title, dtype: object \n",
      "\n"
     ]
    }
   ],
   "source": [
    "# return the top n recommendations using the \n",
    "def recommended_movies(user_ratings,movie_title_df,n):\n",
    "        for idx, rec in enumerate(user_ratings):\n",
    "            title = movie_title_df.loc[movie_title_df['movieId'] == int(rec[0])]['title']\n",
    "            print('Recommendation # ', idx+1, ': ', title, '\\n')\n",
    "            n-= 1\n",
    "            if n == 0:\n",
    "                break\n",
    "            \n",
    "recommended_movies(ranked_movies,df_movies,5)"
   ]
  },
  {
   "cell_type": "markdown",
   "metadata": {},
   "source": [
    "## TESTING THE RECOMMENDATION SYSTEM"
   ]
  },
  {
   "cell_type": "markdown",
   "metadata": {},
   "source": [
    "Let's chain all of the steps together into one function that asks users for ratings for a certain number of movies, then all of the above steps are performed to return the top  𝑛 recommendations.\n",
    "The recommender system will only return items that come from a specified genre"
   ]
  },
  {
   "cell_type": "markdown",
   "metadata": {},
   "source": [
    "The function asks users for ratings for a certain number of movies, and then performs all the necessary steps, and returns the top recommendations from a specified genre:"
   ]
  },
  {
   "cell_type": "code",
   "execution_count": 64,
   "metadata": {},
   "outputs": [],
   "source": [
    "import pandas as pd\n",
    "from surprise import Dataset, Reader, KNNBasic\n",
    "\n",
    "def genre_based_recommender(df, genre, num_movies, num_recommendations):\n",
    "    # Filter movies by the specified genre\n",
    "    genre_movies = df[df['genres'].str.contains(genre, case=False)]\n",
    "    \n",
    "    # Select a subset of movies for the user to rate\n",
    "    movies_to_rate = genre_movies.sample(num_movies)\n",
    "    \n",
    "    # Ask the user to provide ratings for the selected movies\n",
    "    user_ratings = []\n",
    "    for _, movie in movies_to_rate.iterrows():\n",
    "        print(f\"Rate the movie '{movie['title']}' (ID: {movie['movieId']}) on a scale of 1 to 5:\")\n",
    "        rating = float(input())\n",
    "        user_ratings.append((1, movie['movieId'], rating))\n",
    "    \n",
    "    # Create a DataFrame to store the user's ratings\n",
    "    user_ratings_df = pd.DataFrame(user_ratings, columns=['userId', 'movieId', 'rating'])\n",
    "    \n",
    "    # Concatenate the user's ratings with the original ratings DataFrame\n",
    "    merged_ratings_df = pd.concat([df, user_ratings_df], ignore_index=True)\n",
    "    \n",
    "    # Load the merged ratings DataFrame into a Surprise Dataset\n",
    "    reader = Reader(rating_scale=(1, 5))\n",
    "    data = Dataset.load_from_df(merged_ratings_df[['userId', 'movieId', 'rating']], reader)\n",
    "    \n",
    "    # Build the collaborative filtering model\n",
    "    sim_options = {'name': 'cosine', 'user_based': True}\n",
    "    model = KNNBasic(sim_options=sim_options)\n",
    "    trainset = data.build_full_trainset()\n",
    "    model.fit(trainset)\n",
    "    \n",
    "    # Make recommendations for the user\n",
    "    user_id = 1  # Assuming a single user for simplicity\n",
    "    movies_not_rated = df[~df['movieId'].isin(user_ratings_df['movieId'])]\n",
    "    testset = [(user_id, movie_id, 0) for movie_id in movies_not_rated['movieId']]\n",
    "    predictions = model.test(testset)\n",
    "    top_recommendations = sorted(predictions, key=lambda x: x.est, reverse=True)[:num_recommendations]\n",
    "    recommended_movie_ids = [int(prediction.iid) for prediction in top_recommendations]\n",
    "    recommended_movies = df[df['movieId'].isin(recommended_movie_ids)]['title'].tolist()\n",
    "    \n",
    "    return recommended_movies"
   ]
  },
  {
   "cell_type": "markdown",
   "metadata": {},
   "source": [
    "To use the function, you can call it with the original DataFrame, the desired genre, the number of movies for the user to rate, and the number of recommendations to return:"
   ]
  },
  {
   "cell_type": "code",
   "execution_count": 68,
   "metadata": {},
   "outputs": [
    {
     "name": "stdout",
     "output_type": "stream",
     "text": [
      "Rate the movie 'Time Bandits' (ID: 2968) on a scale of 1 to 5:\n",
      "4\n",
      "Rate the movie 'Hitchhiker's Guide to the Galaxy, The' (ID: 33004) on a scale of 1 to 5:\n",
      "5\n",
      "Rate the movie 'Monty Python's The Meaning of Life' (ID: 6807) on a scale of 1 to 5:\n",
      "4\n",
      "Rate the movie 'Sex and the City' (ID: 59725) on a scale of 1 to 5:\n",
      "4\n",
      "Rate the movie 'Dr. Strangelove or: How I Learned to Stop Worrying and Love the Bomb' (ID: 750) on a scale of 1 to 5:\n",
      "5\n",
      "Computing the cosine similarity matrix...\n",
      "Done computing similarity matrix.\n",
      "Top 10 recommendations for the user in the 'Comedy' genre:\n",
      "Lamerica\n",
      "Lamerica\n",
      "Heidi Fleiss: Hollywood Madam\n",
      "Heidi Fleiss: Hollywood Madam\n",
      "Awfully Big Adventure, An\n",
      "Live Nude Girls\n",
      "In the Realm of the Senses (Ai no corrida)\n",
      "What Happened Was...\n",
      "Thin Line Between Love and Hate, A\n",
      "Denise Calls Up\n"
     ]
    }
   ],
   "source": [
    "genre = 'Comedy'  # Specify the desired genre\n",
    "num_movies = 5  # Number of movies for the user to rate\n",
    "num_recommendations = 10  # Number of recommendations to return\n",
    "\n",
    "recommendations = genre_based_recommender(df2, genre, num_movies, num_recommendations)\n",
    "print(f\"Top {num_recommendations} recommendations for the user in the '{genre}' genre:\")\n",
    "for movie in recommendations:\n",
    "    print(movie)"
   ]
  },
  {
   "cell_type": "markdown",
   "metadata": {},
   "source": [
    "# 4. TRY OTHER TECHNIQUES TO IMPROVE RMSE AND MAE"
   ]
  },
  {
   "cell_type": "markdown",
   "metadata": {},
   "source": [
    "## STRATEGY 1: ENSEMBLE METHOD"
   ]
  },
  {
   "cell_type": "markdown",
   "metadata": {},
   "source": [
    "For the ensemble method, we will create and evaluate two individual recommendation models: SVD and KNNBasic. We then perform cross-validation on each model to obtain the average RMSE and MAE scores. Then, we combine the predictions of the two models using a simple averaging ensemble method. Finally, we calculate the RMSE and MAE for the ensemble predictions and compare them with the individual model performances."
   ]
  },
  {
   "cell_type": "code",
   "execution_count": 85,
   "metadata": {},
   "outputs": [
    {
     "name": "stdout",
     "output_type": "stream",
     "text": [
      "Computing the msd similarity matrix...\n",
      "Done computing similarity matrix.\n",
      "Computing the msd similarity matrix...\n",
      "Done computing similarity matrix.\n",
      "Computing the msd similarity matrix...\n",
      "Done computing similarity matrix.\n",
      "Computing the msd similarity matrix...\n",
      "Done computing similarity matrix.\n",
      "Computing the msd similarity matrix...\n",
      "Done computing similarity matrix.\n",
      "Computing the msd similarity matrix...\n",
      "Done computing similarity matrix.\n",
      "SVD - RMSE: 0.8734714672126368\n",
      "SVD - MAE: 0.6700468901768213\n",
      "KNN - RMSE: 0.9472203121340087\n",
      "KNN - MAE: 0.7260513169730868\n",
      "RMSE: 0.8860\n",
      "MAE:  0.6801\n",
      "Ensemble - RMSE: 0.8860305908074744\n",
      "Ensemble - MAE: 0.6800762378176585\n"
     ]
    }
   ],
   "source": [
    "from surprise import SVD, KNNBasic\n",
    "from surprise import Dataset, Reader\n",
    "from surprise.model_selection import cross_validate, train_test_split\n",
    "from surprise import accuracy\n",
    "from statistics import mean\n",
    "from surprise.prediction_algorithms.predictions import Prediction\n",
    "\n",
    "# Load the dataset\n",
    "reader = Reader(rating_scale=(1, 5))\n",
    "data = Dataset.load_from_df(df2[['userId', 'movieId', 'rating']], reader)\n",
    "\n",
    "# Split the data into training and test sets\n",
    "trainset, testset = train_test_split(data, test_size=0.2)\n",
    "\n",
    "# Initialize the individual recommendation models\n",
    "svd = SVD()\n",
    "knn = KNNBasic()\n",
    "\n",
    "# Train the individual models\n",
    "svd.fit(trainset)\n",
    "knn.fit(trainset)\n",
    "\n",
    "# Make predictions using the individual models\n",
    "svd_preds = svd.test(testset)\n",
    "knn_preds = knn.test(testset)\n",
    "\n",
    "# Cross-validate the individual models\n",
    "svd_scores = cross_validate(svd, data, measures=['RMSE', 'MAE'], cv=5)\n",
    "knn_scores = cross_validate(knn, data, measures=['RMSE', 'MAE'], cv=5)\n",
    "\n",
    "# Extract the average RMSE and MAE scores from cross-validation results\n",
    "svd_rmse = mean(svd_scores['test_rmse'])\n",
    "svd_mae = mean(svd_scores['test_mae'])\n",
    "knn_rmse = mean(knn_scores['test_rmse'])\n",
    "knn_mae = mean(knn_scores['test_mae'])\n",
    "\n",
    "# Print the individual model performance\n",
    "print(\"SVD - RMSE:\", svd_rmse)\n",
    "print(\"SVD - MAE:\", svd_mae)\n",
    "print(\"KNN - RMSE:\", knn_rmse)\n",
    "print(\"KNN - MAE:\", knn_mae)\n",
    "\n",
    "# Perform ensemble by averaging the predictions of the two models\n",
    "def ensemble_predictions(predictions1, predictions2):\n",
    "    # Combine the predictions of two models\n",
    "    ensemble_preds = []\n",
    "    for pred1, pred2 in zip(predictions1, predictions2):\n",
    "        r_ui = float(pred1.r_ui)\n",
    "        est = float(pred1.est + pred2.est) / 2\n",
    "        ensemble_preds.append(Prediction(pred1.uid, pred1.iid, r_ui, est, pred1.details))\n",
    "    return ensemble_preds\n",
    "\n",
    "# Perform ensemble prediction\n",
    "ensemble_preds = ensemble_predictions(svd_preds, knn_preds)\n",
    "\n",
    "# Calculate RMSE and MAE for the ensemble predictions\n",
    "ensemble_rmse = accuracy.rmse(ensemble_preds)\n",
    "ensemble_mae = accuracy.mae(ensemble_preds)\n",
    "\n",
    "# Print the ensemble model performance\n",
    "print(\"Ensemble - RMSE:\", ensemble_rmse)\n",
    "print(\"Ensemble - MAE:\", ensemble_mae)"
   ]
  },
  {
   "cell_type": "markdown",
   "metadata": {},
   "source": [
    "From the previous collaborative filtering model built using SVD, we got 'rmse': 0.8693804004379402, 'mae': 0.6684190070988877 looking at the result of the ensemble method, RMSE: 0.8860305908074744 and MAE: 0.6800762378176585 meaning an RMSE increase of 0.01665019"
   ]
  },
  {
   "cell_type": "markdown",
   "metadata": {},
   "source": [
    "## STRATEGY 2: MATRIX FACTORIZATION"
   ]
  },
  {
   "cell_type": "markdown",
   "metadata": {},
   "source": [
    "We define the SVD algorithm with ALS-based Matrix Factorization. We then set the biased parameter to False to help us perform pure ALS. "
   ]
  },
  {
   "cell_type": "code",
   "execution_count": 86,
   "metadata": {},
   "outputs": [
    {
     "name": "stdout",
     "output_type": "stream",
     "text": [
      "Evaluating RMSE, MAE of algorithm SVD on 5 split(s).\n",
      "\n",
      "                  Fold 1  Fold 2  Fold 3  Fold 4  Fold 5  Mean    Std     \n",
      "RMSE (testset)    0.9784  0.9772  0.9800  0.9729  0.9803  0.9778  0.0027  \n",
      "MAE (testset)     0.7555  0.7546  0.7532  0.7495  0.7546  0.7535  0.0021  \n",
      "Fit time          6.03    6.59    6.39    6.12    6.25    6.28    0.20    \n",
      "Test time         0.19    0.22    0.42    0.14    0.20    0.23    0.10    \n",
      "Average RMSE: 0.9778\n",
      "Average MAE: 0.7535\n"
     ]
    }
   ],
   "source": [
    "from surprise import Dataset, Reader\n",
    "from surprise import accuracy\n",
    "from surprise import SVD\n",
    "from surprise.model_selection import cross_validate\n",
    "\n",
    "# Load the dataset\n",
    "reader = Reader(rating_scale=(1, 5))\n",
    "data = Dataset.load_from_df(df2[['userId', 'movieId', 'rating']], reader)\n",
    "\n",
    "# Define the ALS-based Matrix Factorization model\n",
    "als = SVD(biased=False, n_epochs=20, reg_all=0.02)\n",
    "\n",
    "# Perform cross-validation\n",
    "cv_results = cross_validate(als, data, measures=['RMSE', 'MAE'], cv=5, verbose=True)\n",
    "\n",
    "# Print the average RMSE and MAE scores\n",
    "print(\"Average RMSE:\", round(cv_results['test_rmse'].mean(), 4))\n",
    "print(\"Average MAE:\", round(cv_results['test_mae'].mean(), 4))"
   ]
  },
  {
   "cell_type": "markdown",
   "metadata": {},
   "source": [
    "From the previous model built, we got 'rmse': 0.8693804004379402, 'mae': 0.6684190070988877 looking at the result of the matrix factorization using ALS method we get Average RMSE: 0.9778 and Average MAE: 0.7535 meaning an RMSE increase of 0.1084196"
   ]
  },
  {
   "cell_type": "markdown",
   "metadata": {},
   "source": [
    "Let's see if Non-Negative Matrix Factorization gives a better RMSE and MAE"
   ]
  },
  {
   "cell_type": "code",
   "execution_count": 95,
   "metadata": {},
   "outputs": [
    {
     "name": "stdout",
     "output_type": "stream",
     "text": [
      "RMSE: 1.7408\n",
      "Matrix Factorization RMSE: 1.7408287057685572\n"
     ]
    }
   ],
   "source": [
    "from surprise import Dataset\n",
    "from surprise import Reader\n",
    "from surprise import NMF\n",
    "from surprise import accuracy\n",
    "from surprise.model_selection import train_test_split\n",
    "\n",
    "reader = Reader(line_format='user item rating timestamp', sep=',', skip_lines=1)\n",
    "\n",
    "# Load the dataset into a pandas DataFrame\n",
    "data = Dataset.load_from_df(df2[['userId', 'movieId', 'rating']], reader)\n",
    "\n",
    "# Split the dataset into train and test sets\n",
    "trainset, testset = train_test_split(data, test_size=0.2)\n",
    "\n",
    "# Create an instance of the NMF algorithm with ALS\n",
    "mf_model = NMF(n_factors=50, n_epochs=10, biased=False)\n",
    "\n",
    "# Train the matrix factorization model on the trainset\n",
    "mf_model.fit(trainset)\n",
    "\n",
    "# Make predictions on the testset\n",
    "mf_predictions = mf_model.test(testset)\n",
    "\n",
    "# Calculate RMSE for matrix factorization\n",
    "mf_rmse = accuracy.rmse(mf_predictions)\n",
    "\n",
    "print(f\"Matrix Factorization RMSE: {mf_rmse}\")"
   ]
  },
  {
   "cell_type": "markdown",
   "metadata": {},
   "source": [
    "NMF gives the highest RMSE which means predicted ratings or recommendations deviate significantly from the actual ratings provided by users."
   ]
  },
  {
   "cell_type": "markdown",
   "metadata": {},
   "source": [
    "## STRATEGY 3: COLLABORATIVE FILTERING USING BASELINEONLY"
   ]
  },
  {
   "cell_type": "markdown",
   "metadata": {},
   "source": [
    "As there's always a trade-off between computational complexity, flexibility, and performance when working with SVD and Baselineonly. We will experiment with Baselineonly to see if we get an improved RMSE and MAE"
   ]
  },
  {
   "cell_type": "code",
   "execution_count": 94,
   "metadata": {},
   "outputs": [
    {
     "name": "stdout",
     "output_type": "stream",
     "text": [
      "Estimating biases using als...\n",
      "RMSE: 0.8744\n",
      "RMSE: 0.8744393639121938\n"
     ]
    }
   ],
   "source": [
    "import pandas as pd\n",
    "from surprise import BaselineOnly\n",
    "from surprise import Dataset\n",
    "from surprise import Reader\n",
    "from surprise.model_selection import train_test_split\n",
    "from surprise import accuracy\n",
    "\n",
    "# Define the Reader object for Surprise\n",
    "reader = Reader(rating_scale=(0.5, 5))\n",
    "\n",
    "# Load the dataset into Surprise\n",
    "data = Dataset.load_from_df(df2[['userId', 'movieId', 'rating']], reader)\n",
    "\n",
    "# Split the dataset into train and test sets\n",
    "trainset, testset = train_test_split(data, test_size=0.2)\n",
    "\n",
    "# Create an instance of the BaselineOnly algorithm with ALS\n",
    "algo = BaselineOnly(bsl_options={'method': 'als', 'n_epochs': 5, 'reg_u': 12, 'reg_i': 5})\n",
    "\n",
    "# Train the algorithm on the training set\n",
    "algo.fit(trainset)\n",
    "\n",
    "# Make predictions on the test set\n",
    "predictions = algo.test(testset)\n",
    "\n",
    "# Evaluate the predictions using RMSE\n",
    "rmse = accuracy.rmse(predictions)\n",
    "\n",
    "print(f\"RMSE: {rmse}\")"
   ]
  },
  {
   "cell_type": "markdown",
   "metadata": {},
   "source": [
    "From the previous collaborative filtering model built using SVD, we got 'rmse': 0.8693804004379402, 'mae': 0.6684190070988877. The Baseline model gives RMSE: 0.8744 which an increase of RMSE with 0.0050196 which is not a significant difference"
   ]
  },
  {
   "cell_type": "markdown",
   "metadata": {},
   "source": [
    "## STRATEGY 3: HYBRID SYSTEM USING COLLABORATIVE FILTERING AND CONTENT BASED FILTERING"
   ]
  },
  {
   "cell_type": "code",
   "execution_count": 93,
   "metadata": {},
   "outputs": [
    {
     "name": "stdout",
     "output_type": "stream",
     "text": [
      "Computing the msd similarity matrix...\n",
      "Done computing similarity matrix.\n",
      "RMSE: 0.9433\n",
      "Collaborative Filtering RMSE: 0.9433401007184967\n",
      "Content Features:\n",
      "        movieId                                       genres\n",
      "0             1  Adventure|Animation|Children|Comedy|Fantasy\n",
      "215           2                   Adventure|Children|Fantasy\n",
      "325           3                               Comedy|Romance\n",
      "377           4                         Comedy|Drama|Romance\n",
      "384           5                                       Comedy\n",
      "...         ...                                          ...\n",
      "100831   193581              Action|Animation|Comedy|Fantasy\n",
      "100832   193583                     Animation|Comedy|Fantasy\n",
      "100833   193585                                        Drama\n",
      "100834   193587                             Action|Animation\n",
      "100835   193609                                       Comedy\n",
      "\n",
      "[9724 rows x 2 columns]\n"
     ]
    }
   ],
   "source": [
    "import pandas as pd\n",
    "from surprise import Dataset\n",
    "from surprise import Reader\n",
    "from surprise import KNNBasic\n",
    "from surprise import accuracy\n",
    "from surprise.model_selection import train_test_split\n",
    "\n",
    "# Define the Reader object for Surprise\n",
    "reader = Reader(rating_scale=(0.5, 5))\n",
    "\n",
    "# Load the dataset into a pandas DataFrame\n",
    "data = Dataset.load_from_df(df2[['userId', 'movieId', 'rating']], reader)\n",
    "\n",
    "# Split the dataset into train and test sets\n",
    "trainset, testset = train_test_split(data, test_size=0.2)\n",
    "\n",
    "# Perform collaborative filtering\n",
    "# Create an instance of the KNNBasic algorithm\n",
    "cf_model = KNNBasic()\n",
    "\n",
    "# Train the collaborative filtering model on the trainset\n",
    "cf_model.fit(trainset)\n",
    "\n",
    "# Make predictions on the testset\n",
    "cf_predictions = cf_model.test(testset)\n",
    "\n",
    "# Calculate RMSE for collaborative filtering\n",
    "cf_rmse = accuracy.rmse(cf_predictions)\n",
    "\n",
    "print(f\"Collaborative Filtering RMSE: {cf_rmse}\")\n",
    "\n",
    "# Extract relevant features for content-based filtering (e.g., genres)\n",
    "content_features = df2[['movieId', 'genres']].drop_duplicates()\n",
    "\n",
    "# Print the content-based features\n",
    "print(\"Content Features:\")\n",
    "print(content_features)"
   ]
  },
  {
   "cell_type": "markdown",
   "metadata": {},
   "source": [
    "From the previous collaborative filtering model built using SVD, we got 'rmse': 0.8693804004379402, 'mae': 0.6684190070988877. The Hybrid strategy gives RMSE: 0.9433 which an increase of RMSE with 0.0739196"
   ]
  },
  {
   "cell_type": "markdown",
   "metadata": {},
   "source": [
    "# 5. CONCLUSION"
   ]
  },
  {
   "cell_type": "markdown",
   "metadata": {},
   "source": [
    "## Data Analysis:\n",
    "\n",
    "Top 10 most produced genres were the top 10 most rated genres\n",
    "\n",
    "## Recommendation System\n",
    "\n",
    "SVD and BaselineOnly had the lowest RMSE values indicating better prediction accuracy compared to the other models. The Ensemble model performs slightly worse than SVD in terms of RMSE but is still considered to have good accuracy. The ALS-based Matrix Factorization model and MF algorithm with ALS have higher RMSE values, suggesting lower accuracy. The Hybrid strategy also shows a higher RMSE value compared to SVD, indicating comparatively lower accuracy."
   ]
  },
  {
   "cell_type": "markdown",
   "metadata": {},
   "source": [
    "# 6. RECOMMENDATION"
   ]
  },
  {
   "cell_type": "markdown",
   "metadata": {},
   "source": [
    "1. As SVD and BaselineOnly model had the lowest RMSE and relatively low MAE values, meaning they are both a good option for the collaborative filtering recommendation system, we recommend comparing these two models based on other metrics, such as coverage and diversity, to make a final decision.\n",
    "2. The ensemble model also performs well with a slightly higher RMSE compared to SVD. As this model allows for diversity and variety in recommendations, we recommend applying the ensemble model and seeing how it performs on the recommendation system.\n",
    "3. The Hybrid strategy that combines collaborative filtering and content-based filtering is a good alternative option although it has a higher RMSE compared to SVD, we recommend further investigation and fine-tunning this strategy to improve its performance."
   ]
  }
 ],
 "metadata": {
  "kernelspec": {
   "display_name": "Python 3 (ipykernel)",
   "language": "python",
   "name": "python3"
  },
  "language_info": {
   "codemirror_mode": {
    "name": "ipython",
    "version": 3
   },
   "file_extension": ".py",
   "mimetype": "text/x-python",
   "name": "python",
   "nbconvert_exporter": "python",
   "pygments_lexer": "ipython3",
   "version": "3.9.13"
  }
 },
 "nbformat": 4,
 "nbformat_minor": 4
}
